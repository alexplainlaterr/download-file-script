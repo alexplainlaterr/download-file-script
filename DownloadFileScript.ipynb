{
 "cells": [
  {
   "cell_type": "code",
   "execution_count": 19,
   "metadata": {},
   "outputs": [
    {
     "data": {
      "text/plain": [
       "'ARK_INNOVATION_ETF_ARKK_HOLDINGS_2021-02-03.csv'"
      ]
     },
     "execution_count": 19,
     "metadata": {},
     "output_type": "execute_result"
    }
   ],
   "source": [
    "\"\"\"\n",
    "import requests\n",
    "\n",
    "downloadUrl = 'https://ark-funds.com/wp-content/fundsiteliterature/csv/ARK_INNOVATION_ETF_ARKK_HOLDINGS.csv'\n",
    "\n",
    "req = requests.get(downloadUrl)\n",
    "filename = req.url[downloadUrl.rfind('/')+1:]\n",
    "\n",
    "\n",
    "with open(filename, 'wb') as f:\n",
    "        for chunk in req.iter_content(chunk_size=8192):\n",
    "                if chunk:\n",
    "                        f.write(chunk)\n",
    "\"\"\"\n",
    "import requests\n",
    "from datetime import date\n",
    "def download_file(url, filename=''):\n",
    "    req = requests.get(downloadUrl)\n",
    "    today = date.today()\n",
    "    try:\n",
    "        if filename:\n",
    "            pass\n",
    "        else:\n",
    "            filename = req.url[downloadUrl.rfind('/')+1:-4] + '_' + str(today) + '.csv'\n",
    "\n",
    "        with requests.get(url) as req:\n",
    "            with open(filename, 'wb') as f:\n",
    "                for chunk in req.iter_content(chunk_size=8192):\n",
    "                    if chunk:\n",
    "                        f.write(chunk)\n",
    "            return filename\n",
    "    except Exception as e:\n",
    "        print(e)\n",
    "        return None\n",
    "\n",
    "downloadUrl = 'https://ark-funds.com/wp-content/fundsiteliterature/csv/ARK_INNOVATION_ETF_ARKK_HOLDINGS.csv'   \n",
    "download_file(downloadUrl)"
   ]
  }
 ],
 "metadata": {
  "kernelspec": {
   "display_name": "Python 3",
   "language": "python",
   "name": "python3"
  },
  "language_info": {
   "codemirror_mode": {
    "name": "ipython",
    "version": 3
   },
   "file_extension": ".py",
   "mimetype": "text/x-python",
   "name": "python",
   "nbconvert_exporter": "python",
   "pygments_lexer": "ipython3",
   "version": "3.8.5"
  }
 },
 "nbformat": 4,
 "nbformat_minor": 4
}
